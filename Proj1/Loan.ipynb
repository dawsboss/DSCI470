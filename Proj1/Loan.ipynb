{
 "cells": [
  {
   "cell_type": "code",
   "execution_count": null,
   "metadata": {},
   "outputs": [],
   "source": [
    "\"\"\"\n",
    "Authors: Grant Dawson and Ryan Rosiak\n",
    "Link to the dataset!\n",
    "https://www.kaggle.com/subhamjain/loan-prediction-based-on-customer-behavior\n",
    "\n",
    "Attributes:\n",
    "ID - numeric - Quantitative\n",
    "Income - numeric - Quantitative\n",
    "Age - numeric - Quantitative\n",
    "Experience - \n",
    "Marrital Status - String - Catagroical - Single/Married\n",
    "House_Ownership - String - Catagroical - Rented/Owned\n",
    "Car_Ownership - String - Catagroical - yes/no\n",
    "Profession - String - Job\n",
    "City - String - City\n",
    "State - String - State\n",
    "Current_Job_Yrs - numeric - Quantitiative\n",
    "Current_House_Yrs - numeric - Quantitative\n",
    "(OPTIONAL) Risk_Flag - String - Qualitative - This is given and says \n",
    "if the person is a risk for giving a loan\n",
    "    (Test data has it's risk numbers in SamplePredictionDataset.csv)\n",
    "\"\"\""
   ]
  },
  {
   "cell_type": "code",
   "execution_count": 21,
   "metadata": {},
   "outputs": [],
   "source": [
    "import numpy as np\n",
    "import pandas as pd\n",
    "import os\n",
    "import tarfile\n",
    "import urllib\n",
    "import matplotlib.pyplot as plt"
   ]
  },
  {
   "cell_type": "markdown",
   "metadata": {},
   "source": [
    "## Loading the data"
   ]
  },
  {
   "cell_type": "code",
   "execution_count": 5,
   "metadata": {},
   "outputs": [],
   "source": [
    "def load_data():\n",
    "    return pd.read_csv(\"Dataset/TrainingData.csv\"), pd.read_csv(\"Dataset/TestData.csv\")"
   ]
  },
  {
   "cell_type": "code",
   "execution_count": 6,
   "metadata": {},
   "outputs": [],
   "source": [
    "trainData, testData = load_data()"
   ]
  },
  {
   "cell_type": "code",
   "execution_count": 7,
   "metadata": {},
   "outputs": [
    {
     "data": {
      "text/html": [
       "<div>\n",
       "<style scoped>\n",
       "    .dataframe tbody tr th:only-of-type {\n",
       "        vertical-align: middle;\n",
       "    }\n",
       "\n",
       "    .dataframe tbody tr th {\n",
       "        vertical-align: top;\n",
       "    }\n",
       "\n",
       "    .dataframe thead th {\n",
       "        text-align: right;\n",
       "    }\n",
       "</style>\n",
       "<table border=\"1\" class=\"dataframe\">\n",
       "  <thead>\n",
       "    <tr style=\"text-align: right;\">\n",
       "      <th></th>\n",
       "      <th>Id</th>\n",
       "      <th>Income</th>\n",
       "      <th>Age</th>\n",
       "      <th>Experience</th>\n",
       "      <th>Married/Single</th>\n",
       "      <th>House_Ownership</th>\n",
       "      <th>Car_Ownership</th>\n",
       "      <th>Profession</th>\n",
       "      <th>CITY</th>\n",
       "      <th>STATE</th>\n",
       "      <th>CURRENT_JOB_YRS</th>\n",
       "      <th>CURRENT_HOUSE_YRS</th>\n",
       "      <th>Risk_Flag</th>\n",
       "    </tr>\n",
       "  </thead>\n",
       "  <tbody>\n",
       "    <tr>\n",
       "      <th>0</th>\n",
       "      <td>1</td>\n",
       "      <td>1303834</td>\n",
       "      <td>23</td>\n",
       "      <td>3</td>\n",
       "      <td>single</td>\n",
       "      <td>rented</td>\n",
       "      <td>no</td>\n",
       "      <td>Mechanical_engineer</td>\n",
       "      <td>Rewa</td>\n",
       "      <td>Madhya_Pradesh</td>\n",
       "      <td>3</td>\n",
       "      <td>13</td>\n",
       "      <td>0</td>\n",
       "    </tr>\n",
       "    <tr>\n",
       "      <th>1</th>\n",
       "      <td>2</td>\n",
       "      <td>7574516</td>\n",
       "      <td>40</td>\n",
       "      <td>10</td>\n",
       "      <td>single</td>\n",
       "      <td>rented</td>\n",
       "      <td>no</td>\n",
       "      <td>Software_Developer</td>\n",
       "      <td>Parbhani</td>\n",
       "      <td>Maharashtra</td>\n",
       "      <td>9</td>\n",
       "      <td>13</td>\n",
       "      <td>0</td>\n",
       "    </tr>\n",
       "    <tr>\n",
       "      <th>2</th>\n",
       "      <td>3</td>\n",
       "      <td>3991815</td>\n",
       "      <td>66</td>\n",
       "      <td>4</td>\n",
       "      <td>married</td>\n",
       "      <td>rented</td>\n",
       "      <td>no</td>\n",
       "      <td>Technical_writer</td>\n",
       "      <td>Alappuzha</td>\n",
       "      <td>Kerala</td>\n",
       "      <td>4</td>\n",
       "      <td>10</td>\n",
       "      <td>0</td>\n",
       "    </tr>\n",
       "    <tr>\n",
       "      <th>3</th>\n",
       "      <td>4</td>\n",
       "      <td>6256451</td>\n",
       "      <td>41</td>\n",
       "      <td>2</td>\n",
       "      <td>single</td>\n",
       "      <td>rented</td>\n",
       "      <td>yes</td>\n",
       "      <td>Software_Developer</td>\n",
       "      <td>Bhubaneswar</td>\n",
       "      <td>Odisha</td>\n",
       "      <td>2</td>\n",
       "      <td>12</td>\n",
       "      <td>1</td>\n",
       "    </tr>\n",
       "    <tr>\n",
       "      <th>4</th>\n",
       "      <td>5</td>\n",
       "      <td>5768871</td>\n",
       "      <td>47</td>\n",
       "      <td>11</td>\n",
       "      <td>single</td>\n",
       "      <td>rented</td>\n",
       "      <td>no</td>\n",
       "      <td>Civil_servant</td>\n",
       "      <td>Tiruchirappalli[10]</td>\n",
       "      <td>Tamil_Nadu</td>\n",
       "      <td>3</td>\n",
       "      <td>14</td>\n",
       "      <td>1</td>\n",
       "    </tr>\n",
       "  </tbody>\n",
       "</table>\n",
       "</div>"
      ],
      "text/plain": [
       "   Id   Income  Age  Experience Married/Single House_Ownership Car_Ownership  \\\n",
       "0   1  1303834   23           3         single          rented            no   \n",
       "1   2  7574516   40          10         single          rented            no   \n",
       "2   3  3991815   66           4        married          rented            no   \n",
       "3   4  6256451   41           2         single          rented           yes   \n",
       "4   5  5768871   47          11         single          rented            no   \n",
       "\n",
       "            Profession                 CITY           STATE  CURRENT_JOB_YRS  \\\n",
       "0  Mechanical_engineer                 Rewa  Madhya_Pradesh                3   \n",
       "1   Software_Developer             Parbhani     Maharashtra                9   \n",
       "2     Technical_writer            Alappuzha          Kerala                4   \n",
       "3   Software_Developer          Bhubaneswar          Odisha                2   \n",
       "4        Civil_servant  Tiruchirappalli[10]      Tamil_Nadu                3   \n",
       "\n",
       "   CURRENT_HOUSE_YRS  Risk_Flag  \n",
       "0                 13          0  \n",
       "1                 13          0  \n",
       "2                 10          0  \n",
       "3                 12          1  \n",
       "4                 14          1  "
      ]
     },
     "execution_count": 7,
     "metadata": {},
     "output_type": "execute_result"
    }
   ],
   "source": [
    "trainData.head()"
   ]
  },
  {
   "cell_type": "code",
   "execution_count": 8,
   "metadata": {},
   "outputs": [
    {
     "data": {
      "text/html": [
       "<div>\n",
       "<style scoped>\n",
       "    .dataframe tbody tr th:only-of-type {\n",
       "        vertical-align: middle;\n",
       "    }\n",
       "\n",
       "    .dataframe tbody tr th {\n",
       "        vertical-align: top;\n",
       "    }\n",
       "\n",
       "    .dataframe thead th {\n",
       "        text-align: right;\n",
       "    }\n",
       "</style>\n",
       "<table border=\"1\" class=\"dataframe\">\n",
       "  <thead>\n",
       "    <tr style=\"text-align: right;\">\n",
       "      <th></th>\n",
       "      <th>ID</th>\n",
       "      <th>Income</th>\n",
       "      <th>Age</th>\n",
       "      <th>Experience</th>\n",
       "      <th>Married/Single</th>\n",
       "      <th>House_Ownership</th>\n",
       "      <th>Car_Ownership</th>\n",
       "      <th>Profession</th>\n",
       "      <th>CITY</th>\n",
       "      <th>STATE</th>\n",
       "      <th>CURRENT_JOB_YRS</th>\n",
       "      <th>CURRENT_HOUSE_YRS</th>\n",
       "    </tr>\n",
       "  </thead>\n",
       "  <tbody>\n",
       "    <tr>\n",
       "      <th>0</th>\n",
       "      <td>1</td>\n",
       "      <td>7393090</td>\n",
       "      <td>59</td>\n",
       "      <td>19</td>\n",
       "      <td>single</td>\n",
       "      <td>rented</td>\n",
       "      <td>no</td>\n",
       "      <td>Geologist</td>\n",
       "      <td>Malda</td>\n",
       "      <td>West Bengal</td>\n",
       "      <td>4</td>\n",
       "      <td>13</td>\n",
       "    </tr>\n",
       "    <tr>\n",
       "      <th>1</th>\n",
       "      <td>2</td>\n",
       "      <td>1215004</td>\n",
       "      <td>25</td>\n",
       "      <td>5</td>\n",
       "      <td>single</td>\n",
       "      <td>rented</td>\n",
       "      <td>no</td>\n",
       "      <td>Firefighter</td>\n",
       "      <td>Jalna</td>\n",
       "      <td>Maharashtra</td>\n",
       "      <td>5</td>\n",
       "      <td>10</td>\n",
       "    </tr>\n",
       "    <tr>\n",
       "      <th>2</th>\n",
       "      <td>3</td>\n",
       "      <td>8901342</td>\n",
       "      <td>50</td>\n",
       "      <td>12</td>\n",
       "      <td>single</td>\n",
       "      <td>rented</td>\n",
       "      <td>no</td>\n",
       "      <td>Lawyer</td>\n",
       "      <td>Thane</td>\n",
       "      <td>Maharashtra</td>\n",
       "      <td>9</td>\n",
       "      <td>14</td>\n",
       "    </tr>\n",
       "    <tr>\n",
       "      <th>3</th>\n",
       "      <td>4</td>\n",
       "      <td>1944421</td>\n",
       "      <td>49</td>\n",
       "      <td>9</td>\n",
       "      <td>married</td>\n",
       "      <td>rented</td>\n",
       "      <td>yes</td>\n",
       "      <td>Analyst</td>\n",
       "      <td>Latur</td>\n",
       "      <td>Maharashtra</td>\n",
       "      <td>3</td>\n",
       "      <td>12</td>\n",
       "    </tr>\n",
       "    <tr>\n",
       "      <th>4</th>\n",
       "      <td>5</td>\n",
       "      <td>13429</td>\n",
       "      <td>25</td>\n",
       "      <td>18</td>\n",
       "      <td>single</td>\n",
       "      <td>rented</td>\n",
       "      <td>yes</td>\n",
       "      <td>Comedian</td>\n",
       "      <td>Berhampore</td>\n",
       "      <td>West Bengal</td>\n",
       "      <td>13</td>\n",
       "      <td>11</td>\n",
       "    </tr>\n",
       "  </tbody>\n",
       "</table>\n",
       "</div>"
      ],
      "text/plain": [
       "   ID   Income  Age  Experience Married/Single House_Ownership Car_Ownership  \\\n",
       "0   1  7393090   59          19         single          rented            no   \n",
       "1   2  1215004   25           5         single          rented            no   \n",
       "2   3  8901342   50          12         single          rented            no   \n",
       "3   4  1944421   49           9        married          rented           yes   \n",
       "4   5    13429   25          18         single          rented           yes   \n",
       "\n",
       "    Profession        CITY        STATE  CURRENT_JOB_YRS  CURRENT_HOUSE_YRS  \n",
       "0    Geologist       Malda  West Bengal                4                 13  \n",
       "1  Firefighter       Jalna  Maharashtra                5                 10  \n",
       "2       Lawyer       Thane  Maharashtra                9                 14  \n",
       "3      Analyst       Latur  Maharashtra                3                 12  \n",
       "4     Comedian  Berhampore  West Bengal               13                 11  "
      ]
     },
     "execution_count": 8,
     "metadata": {},
     "output_type": "execute_result"
    }
   ],
   "source": [
    "testData.head()"
   ]
  },
  {
   "cell_type": "markdown",
   "metadata": {},
   "source": [
    "## Looking into the data"
   ]
  },
  {
   "cell_type": "code",
   "execution_count": 9,
   "metadata": {},
   "outputs": [
    {
     "name": "stdout",
     "output_type": "stream",
     "text": [
      "Test data size:  28000\n",
      "Train data size:  252000\n"
     ]
    }
   ],
   "source": [
    "#Make sure the sizes match the csv files\n",
    "print(\"Test data size: \", len(testData))\n",
    "print(\"Train data size: \", len(trainData))"
   ]
  },
  {
   "cell_type": "code",
   "execution_count": 10,
   "metadata": {},
   "outputs": [
    {
     "data": {
      "text/plain": [
       "Index(['Id', 'Income', 'Age', 'Experience', 'Married/Single',\n",
       "       'House_Ownership', 'Car_Ownership', 'Profession', 'CITY', 'STATE',\n",
       "       'CURRENT_JOB_YRS', 'CURRENT_HOUSE_YRS', 'Risk_Flag'],\n",
       "      dtype='object')"
      ]
     },
     "execution_count": 10,
     "metadata": {},
     "output_type": "execute_result"
    }
   ],
   "source": [
    "trainData.columns"
   ]
  },
  {
   "cell_type": "code",
   "execution_count": 11,
   "metadata": {},
   "outputs": [
    {
     "name": "stdout",
     "output_type": "stream",
     "text": [
      "<class 'pandas.core.frame.DataFrame'>\n",
      "RangeIndex: 252000 entries, 0 to 251999\n",
      "Data columns (total 13 columns):\n",
      " #   Column             Non-Null Count   Dtype \n",
      "---  ------             --------------   ----- \n",
      " 0   Id                 252000 non-null  int64 \n",
      " 1   Income             252000 non-null  int64 \n",
      " 2   Age                252000 non-null  int64 \n",
      " 3   Experience         252000 non-null  int64 \n",
      " 4   Married/Single     252000 non-null  object\n",
      " 5   House_Ownership    252000 non-null  object\n",
      " 6   Car_Ownership      252000 non-null  object\n",
      " 7   Profession         252000 non-null  object\n",
      " 8   CITY               252000 non-null  object\n",
      " 9   STATE              252000 non-null  object\n",
      " 10  CURRENT_JOB_YRS    252000 non-null  int64 \n",
      " 11  CURRENT_HOUSE_YRS  252000 non-null  int64 \n",
      " 12  Risk_Flag          252000 non-null  int64 \n",
      "dtypes: int64(7), object(6)\n",
      "memory usage: 25.0+ MB\n"
     ]
    }
   ],
   "source": [
    "trainData.info()"
   ]
  },
  {
   "cell_type": "code",
   "execution_count": 12,
   "metadata": {},
   "outputs": [
    {
     "name": "stdout",
     "output_type": "stream",
     "text": [
      "The mean of ID: 14000.5\n",
      "The mean of Income: 5029562.65\n",
      "The mean of Age: 50.05\n",
      "The mean of Experience: 10.12\n",
      "The mean of Married/Single: nan\n",
      "The mean of House_Ownership: nan\n",
      "The mean of Car_Ownership: nan\n",
      "The mean of Profession: nan\n",
      "The mean of CITY: nan\n",
      "The mean of STATE: nan\n",
      "The mean of CURRENT_JOB_YRS: 6.34\n",
      "The mean of CURRENT_HOUSE_YRS: 11.99\n"
     ]
    }
   ],
   "source": [
    "#Calculating means\n",
    "for i in testData.columns:\n",
    "    print(f\"The mean of {i}: {round(pd.to_numeric(testData[i], errors='coerce').mean(),2)}\")\n",
    "    \n"
   ]
  },
  {
   "cell_type": "code",
   "execution_count": 13,
   "metadata": {},
   "outputs": [
    {
     "name": "stdout",
     "output_type": "stream",
     "text": [
      "There are 28000 unique enterencies for ID\n",
      "There are 9916 unique enterencies for Income\n",
      "There are 59 unique enterencies for Age\n",
      "There are 21 unique enterencies for Experience\n",
      "There are 2 unique enterencies for Married/Single\n",
      "There are 3 unique enterencies for House_Ownership\n",
      "There are 2 unique enterencies for Car_Ownership\n",
      "There are 51 unique enterencies for Profession\n",
      "There are 317 unique enterencies for CITY\n",
      "There are 29 unique enterencies for STATE\n",
      "There are 15 unique enterencies for CURRENT_JOB_YRS\n",
      "There are 5 unique enterencies for CURRENT_HOUSE_YRS\n"
     ]
    }
   ],
   "source": [
    "#Count unique entries\n",
    "for i in testData.columns:\n",
    "    print(f\"There are {len(set(testData[i]))} unique enterencies for {i}\")"
   ]
  },
  {
   "cell_type": "code",
   "execution_count": 14,
   "metadata": {},
   "outputs": [
    {
     "name": "stdout",
     "output_type": "stream",
     "text": [
      "Age:{21, 22, 23, 24, 25, 26, 27, 28, 29, 30, 31, 32, 33, 34, 35, 36, 37, 38, 39, 40, 41, 42, 43, 44, 45, 46, 47, 48, 49, 50, 51, 52, 53, 54, 55, 56, 57, 58, 59, 60, 61, 62, 63, 64, 65, 66, 67, 68, 69, 70, 71, 72, 73, 74, 75, 76, 77, 78, 79}\n",
      "Experience:{0, 1, 2, 3, 4, 5, 6, 7, 8, 9, 10, 11, 12, 13, 14, 15, 16, 17, 18, 19, 20}\n",
      "Married/Single:{'single', 'married'}\n",
      "House_Ownership:{'rented', 'owned', 'norent_noown'}\n",
      "Car_Ownership:{'no', 'yes'}\n",
      "Profession:{'Architect', 'Civil servant', 'Technician', 'Librarian', 'Technology specialist', 'Consultant', 'Financial Analyst', 'Mechanical engineer', 'Designer', 'Graphic Designer', 'Computer operator', 'Politician', 'Statistician', 'Geologist', 'Magistrate', 'Army officer', 'Surgeon', 'Surveyor', 'Chartered Accountant', 'Flight attendant', 'Microbiologist', 'Air traffic controller', 'Industrial Engineer', 'Computer hardware engineer', 'Dentist', 'Biomedical Engineer', 'Lawyer', 'Technical writer', 'Software Developer', 'Aviator', 'Analyst', 'Engineer', 'Comedian', 'Civil engineer', 'Secretary', 'Physician', 'Fashion Designer', 'Psychologist', 'Economist', 'Scientist', 'Design Engineer', 'Artist', 'Firefighter', 'Petroleum Engineer', 'Police officer', 'Official', 'Web designer', 'Drafter', 'Chemical engineer', 'Chef', 'Hotel Manager'}\n",
      "STATE:{'Tamil Nadu', 'Punjab', 'Himachal Pradesh', 'Maharashtra', 'Karnataka', 'Odisha', 'Assam', 'Tripura', 'Andhra Pradesh', 'Kerala', 'West Bengal', 'Sikkim', 'Mizoram', 'Madhya Pradesh', 'Telangana', 'Jharkhand', 'Chhattisgarh', 'Chandigarh', 'Bihar', 'Jammu and Kashmir', 'Uttar Pradesh[5]', 'Uttar Pradesh', 'Haryana', 'Delhi', 'Manipur', 'Puducherry', 'Rajasthan', 'Uttarakhand', 'Gujarat'}\n",
      "CURRENT_JOB_YRS:{0, 1, 2, 3, 4, 5, 6, 7, 8, 9, 10, 11, 12, 13, 14}\n",
      "CURRENT_HOUSE_YRS:{10, 11, 12, 13, 14}\n"
     ]
    }
   ],
   "source": [
    "for i in testData.columns:\n",
    "    if i == \"ID\" or i == \"Income\" or i ==\"CITY\":\n",
    "        continue\n",
    "    print(f\"{i}:{set(testData[i])}\")"
   ]
  },
  {
   "cell_type": "markdown",
   "metadata": {},
   "source": [
    "## Visualizing the data\n"
   ]
  },
  {
   "cell_type": "code",
   "execution_count": 15,
   "metadata": {},
   "outputs": [],
   "source": [
    "lp_dataframe = trainData"
   ]
  },
  {
   "cell_type": "code",
   "execution_count": 26,
   "metadata": {},
   "outputs": [
    {
     "data": {
      "image/png": "[encoded data removed]",
      "text/plain": [
       "<Figure size 1008x720 with 1 Axes>"
      ]
     },
     "metadata": {
      "needs_background": "light"
     },
     "output_type": "display_data"
    }
   ],
   "source": [
    "sub_data_lp = lp_dataframe[['Age', 'Experience']]\n",
    "result_cond_young = sub_data_lp.loc[sub_data_lp['Age'] <= 22].groupby(by='Age').mean()\n",
    "result_cond_old = sub_data_lp.loc[sub_data_lp['Age'] > 22].groupby(by='Age').mean()\n",
    "x_axis1 = result_cond_young.reset_index()['Age']\n",
    "y_axis1 = result_cond_young.reset_index()['Experience']\n",
    "x_axis2 = result_cond_old.reset_index()['Age']\n",
    "y_axis2 = result_cond_old.reset_index()['Experience']\n",
    "plt.figure(figsize=(14,10))\n",
    "plt.bar(x_axis1, y_axis1)\n",
    "plt.bar(x_axis2, y_axis2)\n",
    "plt.title('Average Years of Experience per Age Group', fontsize=16)\n",
    "plt.xlabel('Age (Years)', fontsize=16)\n",
    "plt.ylabel('Avg Professional Experience (Years)', fontsize=16)\n",
    "plt.legend(['<=22 years old', '>22 years old'])\n",
    "plt.show()"
   ]
  },
  {
   "cell_type": "code",
   "execution_count": 17,
   "metadata": {},
   "outputs": [
    {
     "name": "stdout",
     "output_type": "stream",
     "text": [
      "Top 10 Highest Paid Professions (Max)\n",
      "                             Income\n",
      "Profession                         \n",
      "Police_officer              9999938\n",
      "Librarian                   9999400\n",
      "Drafter                     9999180\n",
      "Aviator                     9998280\n",
      "Secretary                   9998070\n",
      "Designer                    9996946\n",
      "Statistician                9996861\n",
      "Computer_hardware_engineer  9996192\n",
      "Surgeon                     9995445\n",
      "Biomedical_Engineer         9994932\n",
      "\n",
      "Top 10 Highest Paid Professions (Avg)\n",
      "                           Income\n",
      "Profession                       \n",
      "Petroleum_Engineer   5.443310e+06\n",
      "Psychologist         5.357795e+06\n",
      "Designer             5.336802e+06\n",
      "Scientist            5.282710e+06\n",
      "Surgeon              5.235359e+06\n",
      "Comedian             5.199539e+06\n",
      "Chemical_engineer    5.189805e+06\n",
      "Mechanical_engineer  5.175032e+06\n",
      "Artist               5.164765e+06\n",
      "Financial_Analyst    5.145753e+06\n"
     ]
    }
   ],
   "source": [
    "sub_data_lp = lp_dataframe[['Income', 'Profession']]\n",
    "max_income_professions = sub_data_lp.groupby(by='Profession').max().sort_values(by='Income', ascending=False)\n",
    "print('Top 10 Highest Paid Professions (Max)')\n",
    "print(max_income_professions[:10])\n",
    "mean_income_professions = sub_data_lp.groupby(by='Profession').mean().sort_values(by='Income', ascending=False)\n",
    "print('\\nTop 10 Highest Paid Professions (Avg)')\n",
    "print(mean_income_professions[:10])"
   ]
  },
  {
   "cell_type": "code",
   "execution_count": 25,
   "metadata": {},
   "outputs": [
    {
     "data": {
      "image/png": "[encoded data removed]",
      "text/plain": [
       "<Figure size 1008x720 with 1 Axes>"
      ]
     },
     "metadata": {
      "needs_background": "light"
     },
     "output_type": "display_data"
    }
   ],
   "source": [
    "list_data = lp_dataframe[['Married/Single', 'Risk_Flag']]\n",
    "result1 = list_data.loc[(list_data['Married/Single'] == 'married') & (list_data['Risk_Flag'] == 1)].count()\n",
    "result2 = list_data.loc[(list_data['Married/Single'] == 'married') & (list_data['Risk_Flag'] == 0)].count()\n",
    "result3 = list_data.loc[(list_data['Married/Single'] == 'single') & (list_data['Risk_Flag'] == 1)].count()\n",
    "result4 = list_data.loc[(list_data['Married/Single'] == 'single') & (list_data['Risk_Flag'] == 0)].count()\n",
    "plt.figure(figsize=(14,10))\n",
    "plt.bar(['Married Risk', 'Married Non-Risk'],\n",
    "        [result1[0], result2[0]])\n",
    "plt.bar(['Single Risk', 'Single Non-Risk'],\n",
    "       [result3[0], result4[0]])\n",
    "plt.title('Married/Single Risk Counts', fontsize=16)\n",
    "plt.ylabel('Risk/Non-Risk Count', fontsize=16)\n",
    "plt.xlabel('Married/Single', fontsize=16)\n",
    "plt.legend(['Married', 'Single'])\n",
    "plt.show()"
   ]
  },
  {
   "cell_type": "code",
   "execution_count": 24,
   "metadata": {},
   "outputs": [
    {
     "data": {
      "image/png": "[encoded data removed]",
      "text/plain": [
       "<Figure size 1008x720 with 1 Axes>"
      ]
     },
     "metadata": {
      "needs_background": "light"
     },
     "output_type": "display_data"
    }
   ],
   "source": [
    "list_data = lp_dataframe[['Married/Single', 'Risk_Flag']]\n",
    "result1 = list_data.loc[(list_data['Married/Single'] == 'married') & (list_data['Risk_Flag'] == 1)].count() / list_data.loc[(list_data['Married/Single'] == 'married')].count()\n",
    "result2 = list_data.loc[(list_data['Married/Single'] == 'married') & (list_data['Risk_Flag'] == 0)].count() / list_data.loc[(list_data['Married/Single'] == 'married')].count()\n",
    "result3 = list_data.loc[(list_data['Married/Single'] == 'single') & (list_data['Risk_Flag'] == 1)].count() / list_data.loc[(list_data['Married/Single'] == 'single')].count()\n",
    "result4 = list_data.loc[(list_data['Married/Single'] == 'single') & (list_data['Risk_Flag'] == 0)].count() / list_data.loc[(list_data['Married/Single'] == 'single')].count()\n",
    "plt.figure(figsize=(14,10))\n",
    "plt.bar(['Married Risk', 'Married Non-Risk'],\n",
    "        [result1[0], result2[0]])\n",
    "plt.bar(['Single Risk', 'Single Non-Risk'],\n",
    "       [result3[0], result4[0]])\n",
    "plt.title('Married/Single Risk Counts', fontsize=16)\n",
    "plt.ylabel('Risk/Non-Risk Count', fontsize=16)\n",
    "plt.xlabel('Married/Single', fontsize=16)\n",
    "plt.legend(['Married', 'Single'])\n",
    "plt.show()"
   ]
  },
  {
   "cell_type": "code",
   "execution_count": null,
   "metadata": {},
   "outputs": [],
   "source": []
  },
  {
   "cell_type": "code",
   "execution_count": null,
   "metadata": {},
   "outputs": [],
   "source": []
  },
  {
   "cell_type": "code",
   "execution_count": null,
   "metadata": {},
   "outputs": [],
   "source": []
  }
 ],
 "metadata": {
  "kernelspec": {
   "display_name": "Python 3",
   "language": "python",
   "name": "python3"
  },
  "language_info": {
   "codemirror_mode": {
    "name": "ipython",
    "version": 3
   },
   "file_extension": ".py",
   "mimetype": "text/x-python",
   "name": "python",
   "nbconvert_exporter": "python",
   "pygments_lexer": "ipython3",
   "version": "3.7.6"
  }
 },
 "nbformat": 4,
 "nbformat_minor": 5
}
